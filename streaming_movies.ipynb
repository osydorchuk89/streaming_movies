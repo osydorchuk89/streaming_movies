{
 "cells": [
  {
   "cell_type": "markdown",
   "id": "bd117afe",
   "metadata": {},
   "source": [
    "# Comparing movie streaming platforms"
   ]
  },
  {
   "cell_type": "markdown",
   "id": "8b23cb28",
   "metadata": {},
   "source": [
    "In this notebook, I will compare four major movie streming platforms, Netflix, Amazon Prime Video, Hulu, and Disney+, in terms of how many movies I would like to watch they have. To create my list of preferred movies, I will scrape the movies according to two criteria:\n",
    "\n",
    "1. The movies that participated in the main competitions of the three most prestigious film festivals: Venice, Cannes, and Berlin.\n",
    "2. The movies that have a Metacritic score of no less than 75.\n",
    "\n",
    "In both cases, I will collect only those movies that were release between 2000 and 2021.\n",
    "\n",
    "To get the information about the movies availbale on the the four streaming platforms, I will use the datasets created by Shivam Bansal that are available of [Kaggle](https://www.kaggle.com/datasets/shivamb/netflix-shows).\n",
    "\n",
    "I will then compare the two lists to get the data about how many movies from my list are available on each of the platforms."
   ]
  },
  {
   "cell_type": "code",
   "execution_count": 4,
   "id": "0b45ac6f",
   "metadata": {
    "ExecuteTime": {
     "end_time": "2022-05-10T10:08:06.524070Z",
     "start_time": "2022-05-10T10:08:05.727048Z"
    }
   },
   "outputs": [],
   "source": [
    "import requests\n",
    "from bs4 import BeautifulSoup\n",
    "import pandas as pd\n",
    "import numpy as np\n",
    "import re\n",
    "import matplotlib.pyplot as plt\n",
    "\n",
    "plt.style.use('Solarize_Light2')\n",
    "plt.rcParams.update({'font.size': 12})\n",
    "plt.rcParams.update({'figure.figsize': (9, 6)})"
   ]
  },
  {
   "cell_type": "code",
   "execution_count": 5,
   "id": "9fc4982f",
   "metadata": {
    "ExecuteTime": {
     "end_time": "2022-05-10T10:08:07.417671Z",
     "start_time": "2022-05-10T10:08:07.406670Z"
    }
   },
   "outputs": [],
   "source": [
    "# taken from here - https://stackoverflow.com/a/42240682/16772424\n",
    "\n",
    "headers = {\n",
    "    'Accept-Encoding': 'gzip, deflate, sdch',\n",
    "    'Accept-Language': 'en-US,en;q=0.8',\n",
    "    'Upgrade-Insecure-Requests': '1',\n",
    "    'User-Agent': 'Mozilla/5.0 (X11; Linux x86_64) AppleWebKit/537.36 (KHTML, like Gecko) Chrome/56.0.2924.87 Safari/537.36',\n",
    "    'Accept': 'text/html,application/xhtml+xml,application/xml;q=0.9,image/webp,*/*;q=0.8',\n",
    "    'Cache-Control': 'max-age=0',\n",
    "    'Connection': 'keep-alive',\n",
    "}"
   ]
  },
  {
   "cell_type": "markdown",
   "id": "00db359a",
   "metadata": {},
   "source": [
    "I will start by scraping the movies that participated in main competitions in Venice, Cannes, and Berlin film festivals from 2000-2021. I will then scrape the highest-rated movies according to Metacritic. Finally, I will concatenate both dataframes to create my watchlist."
   ]
  },
  {
   "cell_type": "code",
   "execution_count": 6,
   "id": "4bb2b14f",
   "metadata": {
    "ExecuteTime": {
     "end_time": "2022-05-10T10:08:08.331257Z",
     "start_time": "2022-05-10T10:08:08.317255Z"
    }
   },
   "outputs": [],
   "source": [
    "# function for getting data from a Wikipedia list\n",
    "\n",
    "def parse_competition_list(competition_list):\n",
    "    \n",
    "    titles = []\n",
    "    directors = []\n",
    "    \n",
    "    movies = competition_list.find_all('li')\n",
    "    \n",
    "    for movie in movies:\n",
    "            \n",
    "        full_text = movie.text\n",
    "            \n",
    "        if movie.find('i') is not None:\n",
    "            title = movie.find('i').text.strip()\n",
    "        else:\n",
    "            title = re.search('(.*)(?= by)', full_text)[0]\n",
    "                \n",
    "        titles.append(title)\n",
    "            \n",
    "        try:\n",
    "            director = re.search('(?<=by )(.*)', full_text)[0]\n",
    "            directors.append(director)\n",
    "        except:\n",
    "            directors.append(np.nan)\n",
    "            \n",
    "    return titles, directors"
   ]
  },
  {
   "cell_type": "code",
   "execution_count": 7,
   "id": "7014ed0e",
   "metadata": {
    "ExecuteTime": {
     "end_time": "2022-05-10T10:08:08.719390Z",
     "start_time": "2022-05-10T10:08:08.709378Z"
    }
   },
   "outputs": [],
   "source": [
    "# function for getting data from a Wikipedia table\n",
    "\n",
    "def parse_competition_table(competition_table):\n",
    "    \n",
    "    titles = []\n",
    "    directors = []\n",
    "    \n",
    "    movies = competition_table.find_all('tr')[1:]\n",
    "    \n",
    "    for movie in movies:\n",
    "        \n",
    "        if movie.find('td') is not None:\n",
    "            \n",
    "            if movie.find('td').find('i') is not None:\n",
    "                title = movie.find('td').find('i').text.strip()\n",
    "            else:\n",
    "                continue\n",
    "        \n",
    "        else:\n",
    "            continue\n",
    "        \n",
    "        titles.append(title)\n",
    "        \n",
    "        if len(movie.find_all('td')) == 4:\n",
    "            director = movie.find_all('td')[2].text.strip()\n",
    "            \n",
    "        else:\n",
    "            try:\n",
    "                director = movie.find_all('td')[1].text.strip()\n",
    "            except:\n",
    "                director = np.nan\n",
    "            \n",
    "        directors.append(director)\n",
    "        \n",
    "    return titles, directors"
   ]
  },
  {
   "cell_type": "code",
   "execution_count": 8,
   "id": "74bc214d",
   "metadata": {
    "ExecuteTime": {
     "end_time": "2022-05-10T10:08:09.125022Z",
     "start_time": "2022-05-10T10:08:09.116002Z"
    }
   },
   "outputs": [],
   "source": [
    "# function for getting the link for a festival in a given year\n",
    "\n",
    "def get_festival_url(festival, year):\n",
    "    \n",
    "    url = f'https://en.wikipedia.org/wiki/{year}_{festival}_Film_Festival'\n",
    "    \n",
    "    return url"
   ]
  },
  {
   "cell_type": "code",
   "execution_count": 9,
   "id": "eaa1460d",
   "metadata": {
    "ExecuteTime": {
     "end_time": "2022-05-10T10:08:09.531430Z",
     "start_time": "2022-05-10T10:08:09.513432Z"
    }
   },
   "outputs": [],
   "source": [
    "# function for getting data about festival movies\n",
    "\n",
    "def get_festival_movies(festival, year):\n",
    "    \n",
    "    url = get_festival_url(festival, year)\n",
    "    html_doc = requests.get(url).text\n",
    "    soup = BeautifulSoup(html_doc, 'html.parser')\n",
    "    \n",
    "    all_titles = []\n",
    "    all_directors = []\n",
    "    \n",
    "    tables_classes = ['sortable wikitable', 'wikitable sortable', 'wikitable']\n",
    "    \n",
    "    if (festival == 'Cannes') & (year <= 2002):\n",
    "        \n",
    "        competition_list = soup.find('div', {'class': \"div-col\", 'style': \"column-width: 30em;\"})\n",
    "        titles, directors = parse_competition_list(competition_list)\n",
    "        all_titles.extend(titles)\n",
    "        all_directors.extend(directors)\n",
    "        \n",
    "    elif (festival == 'Cannes') & (year == 2020):\n",
    "        \n",
    "        pass\n",
    "        \n",
    "    else:\n",
    "        \n",
    "        competition_table = soup.find('table', {'class': tables_classes})\n",
    "        titles, directors = parse_competition_table(competition_table)\n",
    "        all_titles.extend(titles)\n",
    "        all_directors.extend(directors)\n",
    "        \n",
    "    movies_dict = {'title': all_titles, 'director': all_directors, 'year': year}\n",
    "    \n",
    "    return movies_dict"
   ]
  },
  {
   "cell_type": "code",
   "execution_count": 10,
   "id": "e8b7d356",
   "metadata": {
    "ExecuteTime": {
     "end_time": "2022-05-10T10:08:09.890986Z",
     "start_time": "2022-05-10T10:08:09.881983Z"
    }
   },
   "outputs": [],
   "source": [
    "# function for getting movie director from Metacritic move page\n",
    "\n",
    "def get_movie_director(movie_link):\n",
    "    \n",
    "    html_doc = requests.get(movie_link, headers=headers).text\n",
    "    soup = BeautifulSoup(html_doc, 'html.parser')\n",
    "    \n",
    "    if soup.find('div', {'class': 'director'}) is not None:\n",
    "        director_tags = soup.find('div', {'class': 'director'})\n",
    "    else:\n",
    "        director_tags = soup.find('div', {\n",
    "            'class': 'c-crewList g-inner-spacing-bottom-small c-entertainmentProductDetails_staff_directors'\n",
    "        })\n",
    "        \n",
    "    if director_tags is not None:\n",
    "    \n",
    "        all_directors = director_tags.find_all('a')\n",
    "        \n",
    "        if len(all_directors) == 1:\n",
    "            director = all_directors[0].text.strip()\n",
    "        else:\n",
    "            director = ''\n",
    "            for directors_part in all_directors:\n",
    "                director += directors_part.text.strip() + ', '\n",
    "        \n",
    "        director = director.rstrip(', ')\n",
    "        \n",
    "    else:\n",
    "        director = np.nan\n",
    "                \n",
    "    return director"
   ]
  },
  {
   "cell_type": "code",
   "execution_count": 11,
   "id": "ffcf8148",
   "metadata": {
    "ExecuteTime": {
     "end_time": "2022-05-10T10:08:10.292936Z",
     "start_time": "2022-05-10T10:08:10.284941Z"
    }
   },
   "outputs": [],
   "source": [
    "# function for getting the data about top-rated Metacritic movies\n",
    "\n",
    "def get_metacritic_movies(year):\n",
    "    \n",
    "    titles = []\n",
    "    scores = []\n",
    "    directors = []\n",
    "    \n",
    "    for page in range(0, 2):\n",
    "    \n",
    "        url = f'https://www.metacritic.com/browse/movies/score/metascore/year/filtered?year_selected={year}&page={page}'\n",
    "        html_doc = requests.get(url, headers=headers).text\n",
    "        soup = BeautifulSoup(html_doc, 'html.parser')\n",
    "\n",
    "        title_tags = soup.find_all('a', {'class': 'title'})\n",
    "        \n",
    "        score_tags_duplicated = soup.find_all('div', {'class': 'metascore_w large movie positive'})\n",
    "        score_tags = score_tags_duplicated[::2]\n",
    "                \n",
    "        for title_tag, score_tag in zip(title_tags, score_tags):\n",
    "\n",
    "            title = title_tag.text.strip()\n",
    "            score = int(score_tag.text.strip())\n",
    "            \n",
    "            movie_link = 'https://www.metacritic.com' + title_tag['href']\n",
    "            director = get_movie_director(movie_link)\n",
    "\n",
    "            if score < 75:\n",
    "                break\n",
    "\n",
    "            titles.append(title)\n",
    "            scores.append(score)\n",
    "            directors.append(director)\n",
    "            \n",
    "    movies_dict = {'title': titles, 'director': directors, 'score': scores, 'year': year}\n",
    "    \n",
    "    return movies_dict"
   ]
  },
  {
   "cell_type": "code",
   "execution_count": 12,
   "id": "2ef313d1",
   "metadata": {
    "ExecuteTime": {
     "end_time": "2022-05-10T10:08:10.681724Z",
     "start_time": "2022-05-10T10:08:10.674738Z"
    }
   },
   "outputs": [],
   "source": [
    "# function for creating a dataframe with the festival movie data\n",
    "\n",
    "def create_festival_movies_df(festival):\n",
    "\n",
    "    movies_list = []\n",
    "\n",
    "    for year in range(2000, 2022):\n",
    "\n",
    "        movies = get_festival_movies(festival, year)\n",
    "        movies_list.append(movies)\n",
    "\n",
    "    movies_df = pd.DataFrame(movies_list).explode(['title', 'director']).reset_index(drop=True)\n",
    "    movies_df['festival'] = festival\n",
    "    \n",
    "    return movies_df"
   ]
  },
  {
   "cell_type": "code",
   "execution_count": 13,
   "id": "e096129e",
   "metadata": {
    "ExecuteTime": {
     "end_time": "2022-05-10T10:08:11.062174Z",
     "start_time": "2022-05-10T10:08:11.049182Z"
    }
   },
   "outputs": [],
   "source": [
    "# function for creating a dataframe with the Metacritic movie data\n",
    "\n",
    "def create_metacritic_movies_df():\n",
    "\n",
    "    movies_list = []\n",
    "\n",
    "    for year in range(2000, 2022):\n",
    "\n",
    "        movies = get_metacritic_movies(year)\n",
    "        movies_list.append(movies)\n",
    "\n",
    "    movies_df = pd.DataFrame(movies_list).explode(['title', 'director', 'score']).reset_index(drop=True) \n",
    "    \n",
    "    return movies_df"
   ]
  },
  {
   "cell_type": "code",
   "execution_count": 14,
   "id": "56ca4e0a",
   "metadata": {
    "ExecuteTime": {
     "end_time": "2022-05-10T10:17:03.364678Z",
     "start_time": "2022-05-10T10:08:11.440244Z"
    }
   },
   "outputs": [],
   "source": [
    "cannes_movies = create_festival_movies_df('Cannes')\n",
    "cannes_movies.dropna(inplace=True)\n",
    "berlin_movies = create_festival_movies_df('Berlin')\n",
    "venice_movies = create_festival_movies_df('Venice')\n",
    "festival_movies = pd.concat([cannes_movies, berlin_movies, venice_movies], ignore_index = True)\n",
    "festival_movies['movie_type'] = 'Festival movies'\n",
    "\n",
    "metacritic_movies = create_metacritic_movies_df()\n",
    "metacritic_movies['movie_type'] = 'Metacritic movies'\n",
    "my_movies = pd.concat([festival_movies, metacritic_movies], ignore_index = True)\n",
    "my_movies.director.fillna('None', inplace=True)"
   ]
  },
  {
   "cell_type": "code",
   "execution_count": 15,
   "id": "1ab49088",
   "metadata": {
    "ExecuteTime": {
     "end_time": "2022-05-10T10:17:03.396680Z",
     "start_time": "2022-05-10T10:17:03.366688Z"
    }
   },
   "outputs": [
    {
     "name": "stdout",
     "output_type": "stream",
     "text": [
      "There are 3096 movies on my watchlist\n"
     ]
    }
   ],
   "source": [
    "titles_translations = {\n",
    "    'Code inconnu: Récit incomplet de divers voyages': 'Code Unknown',\n",
    "    'Guizi lai le': 'Devils on the Doorstep',\n",
    "    'Harry, un ami qui vous veut du bien': \"Harry, He's Here to Help\",\n",
    "    'Les destinées sentimentales': 'Sentimental Destinies',\n",
    "    'Svadba': 'The Wedding',\n",
    "    'Sånger från andra våningen': 'Songs from the Second Floor',\n",
    "    'Takhté siah': 'Blackboards',\n",
    "    'Trolösa': 'Faithless',\n",
    "    'Yurîka': 'Eureka'\n",
    "}\n",
    "\n",
    "my_movies.title = my_movies.title.replace(titles_translations)\n",
    "my_movies.drop_duplicates(['title', 'director'], inplace=True)\n",
    "no_my_movies = len(my_movies)\n",
    "print(f'There are {no_my_movies} movies on my watchlist')"
   ]
  },
  {
   "cell_type": "markdown",
   "id": "602846fb",
   "metadata": {},
   "source": [
    "Let's look at the directors with the biggest number of movies on my watchlist."
   ]
  },
  {
   "cell_type": "code",
   "execution_count": 16,
   "id": "21ed7126",
   "metadata": {
    "ExecuteTime": {
     "end_time": "2022-05-10T10:17:03.692979Z",
     "start_time": "2022-05-10T10:17:03.399687Z"
    }
   },
   "outputs": [
    {
     "data": {
      "image/png": "[encoded data removed]",
      "text/plain": [
       "<Figure size 432x288 with 1 Axes>"
      ]
     },
     "metadata": {
      "needs_background": "light"
     },
     "output_type": "display_data"
    }
   ],
   "source": [
    "ax1 = my_movies.director.value_counts().head(10).plot.barh()\n",
    "ax1.invert_yaxis()\n",
    "plt.title('Directors with the biggest number of movies on my watchlist')\n",
    "plt.savefig('fig1.png', bbox_inches='tight')\n",
    "plt.show()"
   ]
  },
  {
   "cell_type": "markdown",
   "id": "0ebe9f99",
   "metadata": {},
   "source": [
    "Next, I will load the datasets from Kaggle that have information about movies available on [Netflix](https://www.kaggle.com/datasets/shivamb/netflix-shows), [Amazon Prime Video](https://www.kaggle.com/datasets/shivamb/amazon-prime-movies-and-tv-shows), [Hulu](https://www.kaggle.com/datasets/shivamb/hulu-movies-and-tv-shows), and [Disney+](https://www.kaggle.com/datasets/shivamb/disney-movies-and-tv-shows) and combine them as well."
   ]
  },
  {
   "cell_type": "code",
   "execution_count": 17,
   "id": "cf7e5243",
   "metadata": {
    "ExecuteTime": {
     "end_time": "2022-05-10T10:17:03.981075Z",
     "start_time": "2022-05-10T10:17:03.695999Z"
    }
   },
   "outputs": [],
   "source": [
    "netflix_movies = pd.read_csv('data/netflix_titles.csv')\n",
    "amazon_movies = pd.read_csv('data/amazon_prime_titles.csv')\n",
    "hulu_movies = pd.read_csv('data/hulu_titles.csv')\n",
    "disney_movies = pd.read_csv('data/disney_plus_titles.csv')\n",
    "\n",
    "netflix_movies['streaming_platform'] = 'Netflix'\n",
    "amazon_movies['streaming_platform'] = 'Amazon Prime'\n",
    "hulu_movies['streaming_platform'] = 'Hulu'\n",
    "disney_movies['streaming_platform'] = 'Disney+'\n",
    "\n",
    "cols_to_keep = ['title', 'director', 'year', 'streaming_platform']\n",
    "\n",
    "all_streaming_movies = pd.concat([netflix_movies, amazon_movies, hulu_movies, disney_movies], ignore_index=True)\n",
    "streaming_movies_full = all_streaming_movies[all_streaming_movies.type == 'Movie'].reset_index(drop=True)\n",
    "streaming_movies = streaming_movies_full.rename(columns={'release_year': 'year'})[cols_to_keep]"
   ]
  },
  {
   "cell_type": "code",
   "execution_count": 18,
   "id": "73396255",
   "metadata": {
    "ExecuteTime": {
     "end_time": "2022-05-10T10:17:04.132966Z",
     "start_time": "2022-05-10T10:17:03.983048Z"
    }
   },
   "outputs": [
    {
     "data": {
      "image/png": "[encoded data removed]",
      "text/plain": [
       "<Figure size 432x288 with 1 Axes>"
      ]
     },
     "metadata": {
      "needs_background": "light"
     },
     "output_type": "display_data"
    }
   ],
   "source": [
    "streaming_movies_per_platform = streaming_movies.groupby('streaming_platform').title.count().sort_values(ascending=False)\n",
    "ax2 = streaming_movies_per_platform.plot.bar()\n",
    "plt.xticks(rotation=0)\n",
    "plt.title('The number of movies per streaming platform')\n",
    "plt.xlabel('')\n",
    "plt.savefig('fig3.png')\n",
    "plt.show()"
   ]
  },
  {
   "cell_type": "markdown",
   "id": "d956433b",
   "metadata": {},
   "source": [
    "I will now merge the dataset with my watchlist and the dataset with the streaming platform movies on the combination of columns that represent a unique movies. Since the movies in Hulu dataset doesn't have the information about movie directors, I will merge the datasets on two possible combinations:\n",
    "\n",
    "- title and director\n",
    "- title and year\n",
    "\n",
    "Finally, I will concatentae two resulting dataframes and drop entries with duplicate combination of title and streaming platform to keep only unique pairs of movies and streaming platforms. To get only the unique titles, I will create another dataframe by dropping entries with duplicate titles."
   ]
  },
  {
   "cell_type": "code",
   "execution_count": 19,
   "id": "c9666339",
   "metadata": {
    "ExecuteTime": {
     "end_time": "2022-05-10T10:17:04.164200Z",
     "start_time": "2022-05-10T10:17:04.135921Z"
    }
   },
   "outputs": [],
   "source": [
    "cols_to_keep_new = ['title', 'streaming_platform', 'movie_type']\n",
    "\n",
    "merged_on_title_director = pd.merge(streaming_movies, my_movies, on=['title', 'director'], how='inner')[cols_to_keep_new]\n",
    "merged_on_title_year = pd.merge(streaming_movies, my_movies, on=['title', 'year'], how='inner')[cols_to_keep_new]"
   ]
  },
  {
   "cell_type": "code",
   "execution_count": 20,
   "id": "0b0dd9ee",
   "metadata": {
    "ExecuteTime": {
     "end_time": "2022-05-10T10:17:04.179403Z",
     "start_time": "2022-05-10T10:17:04.167218Z"
    }
   },
   "outputs": [],
   "source": [
    "merged_full = pd.concat([merged_on_title_director, merged_on_title_year]).drop_duplicates(['title', 'streaming_platform'])"
   ]
  },
  {
   "cell_type": "code",
   "execution_count": 21,
   "id": "ae9bdfde",
   "metadata": {
    "ExecuteTime": {
     "end_time": "2022-05-10T10:17:04.195045Z",
     "start_time": "2022-05-10T10:17:04.183407Z"
    }
   },
   "outputs": [
    {
     "name": "stdout",
     "output_type": "stream",
     "text": [
      "There are 102 movies from my watchlist available on Amazon Prime\n",
      "There are 33 movies from my watchlist available on Disney+\n",
      "There are 118 movies from my watchlist available on Hulu\n",
      "There are 280 movies from my watchlist available on Netflix\n"
     ]
    }
   ],
   "source": [
    "movies_on_my_watchlist = merged_full.groupby('streaming_platform').title.count()\n",
    "\n",
    "for platform, no_movies in movies_on_my_watchlist.iteritems():\n",
    "    print(f'There are {no_movies} movies from my watchlist available on {platform}')    "
   ]
  },
  {
   "cell_type": "code",
   "execution_count": 22,
   "id": "8fd6aa43",
   "metadata": {
    "ExecuteTime": {
     "end_time": "2022-05-10T10:17:04.323062Z",
     "start_time": "2022-05-10T10:17:04.197208Z"
    }
   },
   "outputs": [
    {
     "data": {
      "image/png": "[encoded data removed]",
      "text/plain": [
       "<Figure size 432x288 with 1 Axes>"
      ]
     },
     "metadata": {
      "needs_background": "light"
     },
     "output_type": "display_data"
    }
   ],
   "source": [
    "my_movies_per_platform = movies_on_my_watchlist.sort_values(ascending=False)\n",
    "ax3 = my_movies_per_platform.plot.bar()\n",
    "plt.xticks(rotation=0)\n",
    "plt.title('The number of movies from my watchlist per streaming platform')\n",
    "plt.xlabel('')\n",
    "plt.savefig('fig4.png')\n",
    "plt.show()"
   ]
  },
  {
   "cell_type": "code",
   "execution_count": 23,
   "id": "e15e06b2",
   "metadata": {
    "ExecuteTime": {
     "end_time": "2022-05-10T10:17:04.339082Z",
     "start_time": "2022-05-10T10:17:04.327079Z"
    }
   },
   "outputs": [
    {
     "name": "stdout",
     "output_type": "stream",
     "text": [
      "There are 506 unique movies from my watchlist on all four platforms in total\n"
     ]
    }
   ],
   "source": [
    "merged_unique = merged_full.drop_duplicates('title')\n",
    "total_no_movies = len(merged_unique)\n",
    "print(f'There are {total_no_movies} unique movies from my watchlist on all four platforms in total')"
   ]
  }
 ],
 "metadata": {
  "kernelspec": {
   "display_name": "Python 3 (ipykernel)",
   "language": "python",
   "name": "python3"
  },
  "language_info": {
   "codemirror_mode": {
    "name": "ipython",
    "version": 3
   },
   "file_extension": ".py",
   "mimetype": "text/x-python",
   "name": "python",
   "nbconvert_exporter": "python",
   "pygments_lexer": "ipython3",
   "version": "3.10.4"
  }
 },
 "nbformat": 4,
 "nbformat_minor": 5
}
